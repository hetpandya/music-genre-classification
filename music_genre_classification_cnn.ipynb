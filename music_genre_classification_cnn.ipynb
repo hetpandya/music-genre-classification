{
  "nbformat": 4,
  "nbformat_minor": 0,
  "metadata": {
    "colab": {
      "name": "music-genre-classification-cnn.ipynb",
      "provenance": [],
      "collapsed_sections": []
    },
    "kernelspec": {
      "name": "python3",
      "display_name": "Python 3"
    },
    "accelerator": "GPU"
  },
  "cells": [
    {
      "cell_type": "code",
      "metadata": {
        "id": "fTLXnKXdd3eB",
        "colab_type": "code",
        "colab": {
          "base_uri": "https://localhost:8080/",
          "height": 204
        },
        "outputId": "835f1cdd-5396-43db-9a93-236cc34a1b64"
      },
      "source": [
        "!wget http://opihi.cs.uvic.ca/sound/genres.tar.gz "
      ],
      "execution_count": 1,
      "outputs": [
        {
          "output_type": "stream",
          "text": [
            "--2019-10-10 02:20:56--  http://opihi.cs.uvic.ca/sound/genres.tar.gz\n",
            "Resolving opihi.cs.uvic.ca (opihi.cs.uvic.ca)... 142.104.68.135\n",
            "Connecting to opihi.cs.uvic.ca (opihi.cs.uvic.ca)|142.104.68.135|:80... connected.\n",
            "HTTP request sent, awaiting response... 200 OK\n",
            "Length: 1225571541 (1.1G) [application/x-gzip]\n",
            "Saving to: ‘genres.tar.gz’\n",
            "\n",
            "genres.tar.gz       100%[===================>]   1.14G   812KB/s    in 23m 11s \n",
            "\n",
            "2019-10-10 02:44:08 (860 KB/s) - ‘genres.tar.gz’ saved [1225571541/1225571541]\n",
            "\n"
          ],
          "name": "stdout"
        }
      ]
    },
    {
      "cell_type": "code",
      "metadata": {
        "id": "Chyw_MxsqVyS",
        "colab_type": "code",
        "colab": {}
      },
      "source": [
        "!tar xvzf genres.tar.gz"
      ],
      "execution_count": 0,
      "outputs": []
    },
    {
      "cell_type": "code",
      "metadata": {
        "id": "v4qWouDeqbEF",
        "colab_type": "code",
        "colab": {
          "base_uri": "https://localhost:8080/",
          "height": 34
        },
        "outputId": "37c605d5-eb9a-43fa-b71f-e4efde382dc3"
      },
      "source": [
        "# feature extractoring and preprocessing data\n",
        "import librosa\n",
        "import pandas as pd\n",
        "import numpy as np\n",
        "import matplotlib.pyplot as plt\n",
        "%matplotlib inline\n",
        "import os\n",
        "from PIL import Image\n",
        "import pathlib\n",
        "import csv\n",
        "\n",
        "# Preprocessing\n",
        "from sklearn.model_selection import train_test_split\n",
        "from sklearn.preprocessing import LabelEncoder, StandardScaler\n",
        "\n",
        "#Keras\n",
        "import keras\n",
        "\n",
        "import warnings\n",
        "warnings.filterwarnings('ignore')"
      ],
      "execution_count": 3,
      "outputs": [
        {
          "output_type": "stream",
          "text": [
            "Using TensorFlow backend.\n"
          ],
          "name": "stderr"
        }
      ]
    },
    {
      "cell_type": "code",
      "metadata": {
        "id": "EEZd-Hk2eAl2",
        "colab_type": "code",
        "colab": {
          "base_uri": "https://localhost:8080/",
          "height": 34
        },
        "outputId": "ed1627c0-b702-43e0-fac3-335499df9ca3"
      },
      "source": [
        "cmap = plt.get_cmap('inferno')\n",
        "\n",
        "plt.figure(figsize=(10,10))\n",
        "genres = 'blues classical country disco hiphop jazz metal pop reggae rock'.split()\n",
        "for g in genres:\n",
        "    pathlib.Path(f'img_data/{g}').mkdir(parents=True, exist_ok=True)     \n",
        "    for filename in os.listdir(f'./genres/{g}'):\n",
        "        songname = f'./genres/{g}/{filename}'\n",
        "        y, sr = librosa.load(songname, mono=True, duration=5)\n",
        "        plt.specgram(y, NFFT=2048, Fs=2, Fc=0, noverlap=128, cmap=cmap, sides='default', mode='default', scale='dB');\n",
        "        plt.axis('off');\n",
        "        plt.savefig(f'img_data/{g}/{filename[:-3].replace(\".\", \"\")}.png')\n",
        "        plt.clf()"
      ],
      "execution_count": 4,
      "outputs": [
        {
          "output_type": "display_data",
          "data": {
            "text/plain": [
              "<Figure size 720x720 with 0 Axes>"
            ]
          },
          "metadata": {
            "tags": []
          }
        }
      ]
    },
    {
      "cell_type": "code",
      "metadata": {
        "id": "QC92g1kPsW1o",
        "colab_type": "code",
        "colab": {}
      },
      "source": [
        "try:\n",
        "    os.mkdir('./all-genres')\n",
        "    os.mkdir('./all-genres/training')\n",
        "    os.mkdir('./all-genres/testing')\n",
        "    genres = 'blues classical country disco hiphop jazz metal pop reggae rock'.split()\n",
        "    for g in genres:\n",
        "      os.mkdir(f'./all-genres/training/{g}')\n",
        "      os.mkdir(f'./all-genres/testing/{g}')\n",
        "except OSError:\n",
        "    pass"
      ],
      "execution_count": 0,
      "outputs": []
    },
    {
      "cell_type": "code",
      "metadata": {
        "id": "V8B4c0V0tInw",
        "colab_type": "code",
        "colab": {}
      },
      "source": [
        "from shutil import copyfile\n",
        "import random\n",
        "\n",
        "def split_data(SOURCE, TRAINING, TESTING, SPLIT_SIZE):\n",
        "    files = []\n",
        "    for filename in os.listdir(SOURCE):\n",
        "        file = SOURCE + filename\n",
        "        if os.path.getsize(file) > 0:\n",
        "            files.append(filename)\n",
        "        else:\n",
        "            print(filename + \" is zero length, so ignoring.\")\n",
        "\n",
        "    training_length = int(len(files) * SPLIT_SIZE)\n",
        "    testing_length = int(len(files) - training_length)\n",
        "    shuffled_set = random.sample(files, len(files))\n",
        "    training_set = shuffled_set[0:training_length]\n",
        "    testing_set = shuffled_set[-testing_length:]\n",
        "\n",
        "    for filename in training_set:\n",
        "        this_file = SOURCE + filename\n",
        "        destination = TRAINING + filename\n",
        "        copyfile(this_file, destination)\n",
        "\n",
        "    for filename in testing_set:\n",
        "        this_file = SOURCE + filename\n",
        "        destination = TESTING + filename\n",
        "        copyfile(this_file, destination)\n",
        "\n",
        "        \n",
        "split_size = .9\n",
        "genres = 'blues classical country disco hiphop jazz metal pop reggae rock'.split()\n",
        "\n",
        "for g in genres:\n",
        "  GENRE_SOURCE_DIR = f'./img_data/{g}/'\n",
        "  GENRE_TARGET_TEST_DIR=f'./all-genres/testing/{g}/'\n",
        "  GENRE_TARGET_TRAIN_DIR=f'./all-genres/training/{g}/'\n",
        "  split_data(GENRE_SOURCE_DIR, GENRE_TARGET_TRAIN_DIR, GENRE_TARGET_TEST_DIR, split_size)      \n",
        "\n",
        "\n",
        "\n",
        "\n",
        "# Expected output\n",
        "# 666.jpg is zero length, so ignoring\n",
        "# 11702.jpg is zero length, so ignoring"
      ],
      "execution_count": 0,
      "outputs": []
    },
    {
      "cell_type": "code",
      "metadata": {
        "id": "esdEfE6Fvmik",
        "colab_type": "code",
        "colab": {}
      },
      "source": [
        "import tensorflow as tf\n",
        "from keras.datasets import fashion_mnist\n",
        "from keras import Sequential\n",
        "from keras.layers import Flatten,Dense,Conv2D,MaxPooling2D,Dropout\n",
        "import tensorflow as tf\n",
        "from keras.optimizers import RMSprop\n",
        "from keras.preprocessing.image import ImageDataGenerator\n",
        "from keras import backend as K"
      ],
      "execution_count": 0,
      "outputs": []
    },
    {
      "cell_type": "code",
      "metadata": {
        "id": "mzIv8PpCvn6S",
        "colab_type": "code",
        "colab": {}
      },
      "source": [
        "curr_session = tf.get_default_session()\n",
        "# close current session\n",
        "if curr_session is not None:\n",
        "    curr_session.close()\n",
        "# reset graph\n",
        "K.clear_session()\n",
        "# create new session\n",
        "s = tf.InteractiveSession()\n",
        "K.set_session(s)\n",
        "\n",
        "\n",
        "model = Sequential()"
      ],
      "execution_count": 0,
      "outputs": []
    },
    {
      "cell_type": "code",
      "metadata": {
        "id": "xlmf09RWvqDZ",
        "colab_type": "code",
        "colab": {}
      },
      "source": [
        "model.add(Conv2D(32, (3,3), activation='relu', input_shape=(300, 300, 3)))\n",
        "model.add(MaxPooling2D(2, 2))\n",
        "model.add(Conv2D(128, (3,3), activation='relu'))\n",
        "model.add(MaxPooling2D(2,2))\n",
        "model.add(Conv2D(128, (3,3), activation='relu'))\n",
        "model.add(MaxPooling2D(2,2))\n",
        "model.add(Conv2D(192, (3,3), activation='relu'))\n",
        "model.add(MaxPooling2D(2,2))\n",
        "model.add(Conv2D(256, (3,3), activation='relu'))\n",
        "model.add(MaxPooling2D(2,2))\n",
        "model.add(Dropout(0.1))\n",
        "model.add(Flatten())\n",
        "model.add(Dense(50, activation='relu'))\n",
        "model.add(Dense(10, activation='softmax'))"
      ],
      "execution_count": 0,
      "outputs": []
    },
    {
      "cell_type": "code",
      "metadata": {
        "id": "fizq_NkhwKsk",
        "colab_type": "code",
        "colab": {
          "base_uri": "https://localhost:8080/",
          "height": 629
        },
        "outputId": "72e82c46-f6c5-45a6-de70-b5ab89fe4f44"
      },
      "source": [
        "model.summary()"
      ],
      "execution_count": 45,
      "outputs": [
        {
          "output_type": "stream",
          "text": [
            "Model: \"sequential_1\"\n",
            "_________________________________________________________________\n",
            "Layer (type)                 Output Shape              Param #   \n",
            "=================================================================\n",
            "conv2d_1 (Conv2D)            (None, 298, 298, 32)      896       \n",
            "_________________________________________________________________\n",
            "max_pooling2d_1 (MaxPooling2 (None, 149, 149, 32)      0         \n",
            "_________________________________________________________________\n",
            "conv2d_2 (Conv2D)            (None, 147, 147, 128)     36992     \n",
            "_________________________________________________________________\n",
            "max_pooling2d_2 (MaxPooling2 (None, 73, 73, 128)       0         \n",
            "_________________________________________________________________\n",
            "conv2d_3 (Conv2D)            (None, 71, 71, 128)       147584    \n",
            "_________________________________________________________________\n",
            "max_pooling2d_3 (MaxPooling2 (None, 35, 35, 128)       0         \n",
            "_________________________________________________________________\n",
            "conv2d_4 (Conv2D)            (None, 33, 33, 192)       221376    \n",
            "_________________________________________________________________\n",
            "max_pooling2d_4 (MaxPooling2 (None, 16, 16, 192)       0         \n",
            "_________________________________________________________________\n",
            "conv2d_5 (Conv2D)            (None, 14, 14, 256)       442624    \n",
            "_________________________________________________________________\n",
            "max_pooling2d_5 (MaxPooling2 (None, 7, 7, 256)         0         \n",
            "_________________________________________________________________\n",
            "dropout_1 (Dropout)          (None, 7, 7, 256)         0         \n",
            "_________________________________________________________________\n",
            "flatten_1 (Flatten)          (None, 12544)             0         \n",
            "_________________________________________________________________\n",
            "dense_1 (Dense)              (None, 50)                627250    \n",
            "_________________________________________________________________\n",
            "dense_2 (Dense)              (None, 10)                510       \n",
            "=================================================================\n",
            "Total params: 1,477,232\n",
            "Trainable params: 1,477,232\n",
            "Non-trainable params: 0\n",
            "_________________________________________________________________\n"
          ],
          "name": "stdout"
        }
      ]
    },
    {
      "cell_type": "code",
      "metadata": {
        "id": "L5Btc0U9wN5m",
        "colab_type": "code",
        "colab": {}
      },
      "source": [
        "model.compile(loss='categorical_crossentropy',\n",
        "              optimizer=RMSprop(lr=0.001),\n",
        "              metrics=['acc'])"
      ],
      "execution_count": 0,
      "outputs": []
    },
    {
      "cell_type": "code",
      "metadata": {
        "id": "i-hVz_mNwm2g",
        "colab_type": "code",
        "colab": {}
      },
      "source": [
        "train_dir = './all-genres/training/'\n",
        "validation_dir = './all-genres/testing/' "
      ],
      "execution_count": 0,
      "outputs": []
    },
    {
      "cell_type": "code",
      "metadata": {
        "id": "Ahr0_7Z6wRZO",
        "colab_type": "code",
        "colab": {
          "base_uri": "https://localhost:8080/",
          "height": 51
        },
        "outputId": "40054d2c-9cb9-4aee-c82e-f16087deadff"
      },
      "source": [
        "train_datagen = ImageDataGenerator( rescale = 1.0/255. )\n",
        "test_datagen  = ImageDataGenerator( rescale = 1.0/255. )\n",
        "\n",
        "\n",
        "train_generator = train_datagen.flow_from_directory(train_dir,\n",
        "                                                    batch_size=20,\n",
        "                                                    class_mode='categorical',\n",
        "                                                    target_size=(300, 300))     \n",
        "\n",
        "validation_generator =  test_datagen.flow_from_directory(validation_dir,\n",
        "                                                         batch_size=20,\n",
        "                                                         class_mode  = 'categorical',\n",
        "                                                         target_size = (300, 300))"
      ],
      "execution_count": 27,
      "outputs": [
        {
          "output_type": "stream",
          "text": [
            "Found 900 images belonging to 10 classes.\n",
            "Found 100 images belonging to 10 classes.\n"
          ],
          "name": "stdout"
        }
      ]
    },
    {
      "cell_type": "code",
      "metadata": {
        "id": "OrFli_tvyF2N",
        "colab_type": "code",
        "colab": {
          "base_uri": "https://localhost:8080/",
          "height": 1000
        },
        "outputId": "bab9f6d2-2e3a-41e6-cf2b-fabd4ff417da"
      },
      "source": [
        "history1 = model.fit_generator(train_generator, epochs=50, validation_data = validation_generator, verbose = 1)"
      ],
      "execution_count": 41,
      "outputs": [
        {
          "output_type": "stream",
          "text": [
            "Epoch 1/50\n",
            "45/45 [==============================] - 18s 394ms/step - loss: 2.3312 - acc: 0.0978 - val_loss: 2.3039 - val_acc: 0.1000\n",
            "Epoch 2/50\n",
            "45/45 [==============================] - 17s 377ms/step - loss: 2.3010 - acc: 0.1167 - val_loss: 2.2883 - val_acc: 0.1200\n",
            "Epoch 3/50\n",
            "45/45 [==============================] - 17s 374ms/step - loss: 2.2343 - acc: 0.1667 - val_loss: 2.1363 - val_acc: 0.2900\n",
            "Epoch 4/50\n",
            "45/45 [==============================] - 17s 373ms/step - loss: 2.0617 - acc: 0.2456 - val_loss: 1.9746 - val_acc: 0.3000\n",
            "Epoch 5/50\n",
            "45/45 [==============================] - 17s 380ms/step - loss: 1.9317 - acc: 0.2889 - val_loss: 1.8388 - val_acc: 0.3000\n",
            "Epoch 6/50\n",
            "45/45 [==============================] - 17s 373ms/step - loss: 1.9167 - acc: 0.3100 - val_loss: 1.7494 - val_acc: 0.4300\n",
            "Epoch 7/50\n",
            "45/45 [==============================] - 17s 373ms/step - loss: 1.7633 - acc: 0.3378 - val_loss: 1.6839 - val_acc: 0.3900\n",
            "Epoch 8/50\n",
            "45/45 [==============================] - 17s 373ms/step - loss: 1.7150 - acc: 0.3956 - val_loss: 1.6436 - val_acc: 0.3800\n",
            "Epoch 9/50\n",
            "45/45 [==============================] - 17s 375ms/step - loss: 1.5933 - acc: 0.4244 - val_loss: 1.4820 - val_acc: 0.4100\n",
            "Epoch 10/50\n",
            "45/45 [==============================] - 17s 370ms/step - loss: 1.4677 - acc: 0.4667 - val_loss: 1.7202 - val_acc: 0.4300\n",
            "Epoch 11/50\n",
            "45/45 [==============================] - 17s 374ms/step - loss: 1.4050 - acc: 0.4956 - val_loss: 1.4684 - val_acc: 0.4500\n",
            "Epoch 12/50\n",
            "45/45 [==============================] - 17s 376ms/step - loss: 1.3361 - acc: 0.5489 - val_loss: 1.4730 - val_acc: 0.4400\n",
            "Epoch 13/50\n",
            "45/45 [==============================] - 17s 370ms/step - loss: 1.1291 - acc: 0.5944 - val_loss: 1.8035 - val_acc: 0.4400\n",
            "Epoch 14/50\n",
            "45/45 [==============================] - 17s 370ms/step - loss: 1.0674 - acc: 0.6378 - val_loss: 1.5960 - val_acc: 0.4900\n",
            "Epoch 15/50\n",
            "45/45 [==============================] - 17s 370ms/step - loss: 0.8739 - acc: 0.6822 - val_loss: 1.4545 - val_acc: 0.5200\n",
            "Epoch 16/50\n",
            "45/45 [==============================] - 17s 368ms/step - loss: 0.7593 - acc: 0.7322 - val_loss: 1.4685 - val_acc: 0.5400\n",
            "Epoch 17/50\n",
            "45/45 [==============================] - 17s 376ms/step - loss: 0.6126 - acc: 0.7633 - val_loss: 2.1659 - val_acc: 0.4900\n",
            "Epoch 18/50\n",
            "45/45 [==============================] - 17s 370ms/step - loss: 0.5800 - acc: 0.8078 - val_loss: 1.8506 - val_acc: 0.5500\n",
            "Epoch 19/50\n",
            "45/45 [==============================] - 17s 369ms/step - loss: 0.4834 - acc: 0.8389 - val_loss: 2.2025 - val_acc: 0.5000\n",
            "Epoch 20/50\n",
            "45/45 [==============================] - 17s 369ms/step - loss: 0.4153 - acc: 0.8756 - val_loss: 1.9385 - val_acc: 0.5400\n",
            "Epoch 21/50\n",
            "45/45 [==============================] - 16s 365ms/step - loss: 0.3482 - acc: 0.8944 - val_loss: 2.2998 - val_acc: 0.4800\n",
            "Epoch 22/50\n",
            "45/45 [==============================] - 16s 365ms/step - loss: 0.3040 - acc: 0.9133 - val_loss: 2.1398 - val_acc: 0.5000\n",
            "Epoch 23/50\n",
            "45/45 [==============================] - 16s 366ms/step - loss: 0.2530 - acc: 0.9278 - val_loss: 3.3269 - val_acc: 0.4600\n",
            "Epoch 24/50\n",
            "45/45 [==============================] - 17s 372ms/step - loss: 0.2351 - acc: 0.9189 - val_loss: 2.7587 - val_acc: 0.5500\n",
            "Epoch 25/50\n",
            "45/45 [==============================] - 17s 369ms/step - loss: 0.1765 - acc: 0.9389 - val_loss: 3.5852 - val_acc: 0.4600\n",
            "Epoch 26/50\n",
            "45/45 [==============================] - 17s 367ms/step - loss: 0.2461 - acc: 0.9289 - val_loss: 2.6171 - val_acc: 0.5000\n",
            "Epoch 27/50\n",
            "45/45 [==============================] - 17s 370ms/step - loss: 0.1754 - acc: 0.9422 - val_loss: 2.7698 - val_acc: 0.5500\n",
            "Epoch 28/50\n",
            "45/45 [==============================] - 17s 367ms/step - loss: 0.1972 - acc: 0.9622 - val_loss: 3.4416 - val_acc: 0.5300\n",
            "Epoch 29/50\n",
            "45/45 [==============================] - 17s 374ms/step - loss: 0.1352 - acc: 0.9667 - val_loss: 3.2838 - val_acc: 0.5400\n",
            "Epoch 30/50\n",
            "45/45 [==============================] - 17s 369ms/step - loss: 0.1477 - acc: 0.9644 - val_loss: 3.4361 - val_acc: 0.4800\n",
            "Epoch 31/50\n",
            "45/45 [==============================] - 17s 367ms/step - loss: 0.2126 - acc: 0.9522 - val_loss: 3.4071 - val_acc: 0.4200\n",
            "Epoch 32/50\n",
            "45/45 [==============================] - 17s 371ms/step - loss: 0.1744 - acc: 0.9544 - val_loss: 3.2174 - val_acc: 0.5000\n",
            "Epoch 33/50\n",
            "45/45 [==============================] - 17s 371ms/step - loss: 0.1473 - acc: 0.9622 - val_loss: 3.8350 - val_acc: 0.4600\n",
            "Epoch 34/50\n",
            "45/45 [==============================] - 17s 370ms/step - loss: 0.0758 - acc: 0.9833 - val_loss: 3.8254 - val_acc: 0.4900\n",
            "Epoch 35/50\n",
            "45/45 [==============================] - 17s 371ms/step - loss: 0.1388 - acc: 0.9678 - val_loss: 3.3104 - val_acc: 0.5200\n",
            "Epoch 36/50\n",
            "45/45 [==============================] - 17s 369ms/step - loss: 0.1061 - acc: 0.9711 - val_loss: 3.6309 - val_acc: 0.4800\n",
            "Epoch 37/50\n",
            "45/45 [==============================] - 17s 373ms/step - loss: 0.1155 - acc: 0.9611 - val_loss: 4.3593 - val_acc: 0.5200\n",
            "Epoch 38/50\n",
            "45/45 [==============================] - 17s 381ms/step - loss: 0.0823 - acc: 0.9733 - val_loss: 3.7237 - val_acc: 0.5000\n",
            "Epoch 39/50\n",
            "45/45 [==============================] - 17s 374ms/step - loss: 0.0885 - acc: 0.9756 - val_loss: 3.5151 - val_acc: 0.5600\n",
            "Epoch 40/50\n",
            "45/45 [==============================] - 17s 373ms/step - loss: 0.1454 - acc: 0.9689 - val_loss: 3.9665 - val_acc: 0.4800\n",
            "Epoch 41/50\n",
            "45/45 [==============================] - 17s 370ms/step - loss: 0.1075 - acc: 0.9789 - val_loss: 4.1848 - val_acc: 0.5000\n",
            "Epoch 42/50\n",
            "45/45 [==============================] - 16s 366ms/step - loss: 0.1320 - acc: 0.9667 - val_loss: 3.4755 - val_acc: 0.5000\n",
            "Epoch 43/50\n",
            "45/45 [==============================] - 17s 370ms/step - loss: 0.0475 - acc: 0.9911 - val_loss: 4.0237 - val_acc: 0.5000\n",
            "Epoch 44/50\n",
            "45/45 [==============================] - 17s 369ms/step - loss: 0.1638 - acc: 0.9578 - val_loss: 3.7419 - val_acc: 0.5500\n",
            "Epoch 45/50\n",
            "45/45 [==============================] - 17s 370ms/step - loss: 0.0944 - acc: 0.9756 - val_loss: 3.5777 - val_acc: 0.4800\n",
            "Epoch 46/50\n",
            "45/45 [==============================] - 17s 368ms/step - loss: 0.1309 - acc: 0.9722 - val_loss: 4.3580 - val_acc: 0.5200\n",
            "Epoch 47/50\n",
            "45/45 [==============================] - 17s 371ms/step - loss: 0.0543 - acc: 0.9856 - val_loss: 4.2867 - val_acc: 0.4900\n",
            "Epoch 48/50\n",
            "45/45 [==============================] - 17s 369ms/step - loss: 0.1386 - acc: 0.9644 - val_loss: 4.2153 - val_acc: 0.4900\n",
            "Epoch 49/50\n",
            "45/45 [==============================] - 17s 369ms/step - loss: 0.0975 - acc: 0.9767 - val_loss: 4.4815 - val_acc: 0.5500\n",
            "Epoch 50/50\n",
            " 8/45 [====>.........................] - ETA: 16s - loss: 0.0566 - acc: 0.9812"
          ],
          "name": "stdout"
        },
        {
          "output_type": "error",
          "ename": "KeyboardInterrupt",
          "evalue": "ignored",
          "traceback": [
            "\u001b[0;31m---------------------------------------------------------------------------\u001b[0m",
            "\u001b[0;31mKeyboardInterrupt\u001b[0m                         Traceback (most recent call last)",
            "\u001b[0;32m<ipython-input-41-0c980ec7e591>\u001b[0m in \u001b[0;36m<module>\u001b[0;34m()\u001b[0m\n\u001b[0;32m----> 1\u001b[0;31m \u001b[0mhistory1\u001b[0m \u001b[0;34m=\u001b[0m \u001b[0mmodel3\u001b[0m\u001b[0;34m.\u001b[0m\u001b[0mfit_generator\u001b[0m\u001b[0;34m(\u001b[0m\u001b[0mtrain_generator\u001b[0m\u001b[0;34m,\u001b[0m \u001b[0mepochs\u001b[0m\u001b[0;34m=\u001b[0m\u001b[0;36m50\u001b[0m\u001b[0;34m,\u001b[0m \u001b[0mvalidation_data\u001b[0m \u001b[0;34m=\u001b[0m \u001b[0mvalidation_generator\u001b[0m\u001b[0;34m,\u001b[0m \u001b[0mverbose\u001b[0m \u001b[0;34m=\u001b[0m \u001b[0;36m1\u001b[0m\u001b[0;34m)\u001b[0m\u001b[0;34m\u001b[0m\u001b[0;34m\u001b[0m\u001b[0m\n\u001b[0m",
            "\u001b[0;32m/usr/local/lib/python3.6/dist-packages/keras/legacy/interfaces.py\u001b[0m in \u001b[0;36mwrapper\u001b[0;34m(*args, **kwargs)\u001b[0m\n\u001b[1;32m     89\u001b[0m                 warnings.warn('Update your `' + object_name + '` call to the ' +\n\u001b[1;32m     90\u001b[0m                               'Keras 2 API: ' + signature, stacklevel=2)\n\u001b[0;32m---> 91\u001b[0;31m             \u001b[0;32mreturn\u001b[0m \u001b[0mfunc\u001b[0m\u001b[0;34m(\u001b[0m\u001b[0;34m*\u001b[0m\u001b[0margs\u001b[0m\u001b[0;34m,\u001b[0m \u001b[0;34m**\u001b[0m\u001b[0mkwargs\u001b[0m\u001b[0;34m)\u001b[0m\u001b[0;34m\u001b[0m\u001b[0;34m\u001b[0m\u001b[0m\n\u001b[0m\u001b[1;32m     92\u001b[0m         \u001b[0mwrapper\u001b[0m\u001b[0;34m.\u001b[0m\u001b[0m_original_function\u001b[0m \u001b[0;34m=\u001b[0m \u001b[0mfunc\u001b[0m\u001b[0;34m\u001b[0m\u001b[0;34m\u001b[0m\u001b[0m\n\u001b[1;32m     93\u001b[0m         \u001b[0;32mreturn\u001b[0m \u001b[0mwrapper\u001b[0m\u001b[0;34m\u001b[0m\u001b[0;34m\u001b[0m\u001b[0m\n",
            "\u001b[0;32m/usr/local/lib/python3.6/dist-packages/keras/engine/training.py\u001b[0m in \u001b[0;36mfit_generator\u001b[0;34m(self, generator, steps_per_epoch, epochs, verbose, callbacks, validation_data, validation_steps, validation_freq, class_weight, max_queue_size, workers, use_multiprocessing, shuffle, initial_epoch)\u001b[0m\n\u001b[1;32m   1656\u001b[0m             \u001b[0muse_multiprocessing\u001b[0m\u001b[0;34m=\u001b[0m\u001b[0muse_multiprocessing\u001b[0m\u001b[0;34m,\u001b[0m\u001b[0;34m\u001b[0m\u001b[0;34m\u001b[0m\u001b[0m\n\u001b[1;32m   1657\u001b[0m             \u001b[0mshuffle\u001b[0m\u001b[0;34m=\u001b[0m\u001b[0mshuffle\u001b[0m\u001b[0;34m,\u001b[0m\u001b[0;34m\u001b[0m\u001b[0;34m\u001b[0m\u001b[0m\n\u001b[0;32m-> 1658\u001b[0;31m             initial_epoch=initial_epoch)\n\u001b[0m\u001b[1;32m   1659\u001b[0m \u001b[0;34m\u001b[0m\u001b[0m\n\u001b[1;32m   1660\u001b[0m     \u001b[0;34m@\u001b[0m\u001b[0minterfaces\u001b[0m\u001b[0;34m.\u001b[0m\u001b[0mlegacy_generator_methods_support\u001b[0m\u001b[0;34m\u001b[0m\u001b[0;34m\u001b[0m\u001b[0m\n",
            "\u001b[0;32m/usr/local/lib/python3.6/dist-packages/keras/engine/training_generator.py\u001b[0m in \u001b[0;36mfit_generator\u001b[0;34m(model, generator, steps_per_epoch, epochs, verbose, callbacks, validation_data, validation_steps, validation_freq, class_weight, max_queue_size, workers, use_multiprocessing, shuffle, initial_epoch)\u001b[0m\n\u001b[1;32m    213\u001b[0m                 outs = model.train_on_batch(x, y,\n\u001b[1;32m    214\u001b[0m                                             \u001b[0msample_weight\u001b[0m\u001b[0;34m=\u001b[0m\u001b[0msample_weight\u001b[0m\u001b[0;34m,\u001b[0m\u001b[0;34m\u001b[0m\u001b[0;34m\u001b[0m\u001b[0m\n\u001b[0;32m--> 215\u001b[0;31m                                             class_weight=class_weight)\n\u001b[0m\u001b[1;32m    216\u001b[0m \u001b[0;34m\u001b[0m\u001b[0m\n\u001b[1;32m    217\u001b[0m                 \u001b[0mouts\u001b[0m \u001b[0;34m=\u001b[0m \u001b[0mto_list\u001b[0m\u001b[0;34m(\u001b[0m\u001b[0mouts\u001b[0m\u001b[0;34m)\u001b[0m\u001b[0;34m\u001b[0m\u001b[0;34m\u001b[0m\u001b[0m\n",
            "\u001b[0;32m/usr/local/lib/python3.6/dist-packages/keras/engine/training.py\u001b[0m in \u001b[0;36mtrain_on_batch\u001b[0;34m(self, x, y, sample_weight, class_weight)\u001b[0m\n\u001b[1;32m   1447\u001b[0m             \u001b[0mins\u001b[0m \u001b[0;34m=\u001b[0m \u001b[0mx\u001b[0m \u001b[0;34m+\u001b[0m \u001b[0my\u001b[0m \u001b[0;34m+\u001b[0m \u001b[0msample_weights\u001b[0m\u001b[0;34m\u001b[0m\u001b[0;34m\u001b[0m\u001b[0m\n\u001b[1;32m   1448\u001b[0m         \u001b[0mself\u001b[0m\u001b[0;34m.\u001b[0m\u001b[0m_make_train_function\u001b[0m\u001b[0;34m(\u001b[0m\u001b[0;34m)\u001b[0m\u001b[0;34m\u001b[0m\u001b[0;34m\u001b[0m\u001b[0m\n\u001b[0;32m-> 1449\u001b[0;31m         \u001b[0moutputs\u001b[0m \u001b[0;34m=\u001b[0m \u001b[0mself\u001b[0m\u001b[0;34m.\u001b[0m\u001b[0mtrain_function\u001b[0m\u001b[0;34m(\u001b[0m\u001b[0mins\u001b[0m\u001b[0;34m)\u001b[0m\u001b[0;34m\u001b[0m\u001b[0;34m\u001b[0m\u001b[0m\n\u001b[0m\u001b[1;32m   1450\u001b[0m         \u001b[0;32mreturn\u001b[0m \u001b[0munpack_singleton\u001b[0m\u001b[0;34m(\u001b[0m\u001b[0moutputs\u001b[0m\u001b[0;34m)\u001b[0m\u001b[0;34m\u001b[0m\u001b[0;34m\u001b[0m\u001b[0m\n\u001b[1;32m   1451\u001b[0m \u001b[0;34m\u001b[0m\u001b[0m\n",
            "\u001b[0;32m/usr/local/lib/python3.6/dist-packages/keras/backend/tensorflow_backend.py\u001b[0m in \u001b[0;36m__call__\u001b[0;34m(self, inputs)\u001b[0m\n\u001b[1;32m   2977\u001b[0m                     \u001b[0;32mreturn\u001b[0m \u001b[0mself\u001b[0m\u001b[0;34m.\u001b[0m\u001b[0m_legacy_call\u001b[0m\u001b[0;34m(\u001b[0m\u001b[0minputs\u001b[0m\u001b[0;34m)\u001b[0m\u001b[0;34m\u001b[0m\u001b[0;34m\u001b[0m\u001b[0m\n\u001b[1;32m   2978\u001b[0m \u001b[0;34m\u001b[0m\u001b[0m\n\u001b[0;32m-> 2979\u001b[0;31m             \u001b[0;32mreturn\u001b[0m \u001b[0mself\u001b[0m\u001b[0;34m.\u001b[0m\u001b[0m_call\u001b[0m\u001b[0;34m(\u001b[0m\u001b[0minputs\u001b[0m\u001b[0;34m)\u001b[0m\u001b[0;34m\u001b[0m\u001b[0;34m\u001b[0m\u001b[0m\n\u001b[0m\u001b[1;32m   2980\u001b[0m         \u001b[0;32melse\u001b[0m\u001b[0;34m:\u001b[0m\u001b[0;34m\u001b[0m\u001b[0;34m\u001b[0m\u001b[0m\n\u001b[1;32m   2981\u001b[0m             \u001b[0;32mif\u001b[0m \u001b[0mpy_any\u001b[0m\u001b[0;34m(\u001b[0m\u001b[0mis_tensor\u001b[0m\u001b[0;34m(\u001b[0m\u001b[0mx\u001b[0m\u001b[0;34m)\u001b[0m \u001b[0;32mfor\u001b[0m \u001b[0mx\u001b[0m \u001b[0;32min\u001b[0m \u001b[0minputs\u001b[0m\u001b[0;34m)\u001b[0m\u001b[0;34m:\u001b[0m\u001b[0;34m\u001b[0m\u001b[0;34m\u001b[0m\u001b[0m\n",
            "\u001b[0;32m/usr/local/lib/python3.6/dist-packages/keras/backend/tensorflow_backend.py\u001b[0m in \u001b[0;36m_call\u001b[0;34m(self, inputs)\u001b[0m\n\u001b[1;32m   2935\u001b[0m             \u001b[0mfetched\u001b[0m \u001b[0;34m=\u001b[0m \u001b[0mself\u001b[0m\u001b[0;34m.\u001b[0m\u001b[0m_callable_fn\u001b[0m\u001b[0;34m(\u001b[0m\u001b[0;34m*\u001b[0m\u001b[0marray_vals\u001b[0m\u001b[0;34m,\u001b[0m \u001b[0mrun_metadata\u001b[0m\u001b[0;34m=\u001b[0m\u001b[0mself\u001b[0m\u001b[0;34m.\u001b[0m\u001b[0mrun_metadata\u001b[0m\u001b[0;34m)\u001b[0m\u001b[0;34m\u001b[0m\u001b[0;34m\u001b[0m\u001b[0m\n\u001b[1;32m   2936\u001b[0m         \u001b[0;32melse\u001b[0m\u001b[0;34m:\u001b[0m\u001b[0;34m\u001b[0m\u001b[0;34m\u001b[0m\u001b[0m\n\u001b[0;32m-> 2937\u001b[0;31m             \u001b[0mfetched\u001b[0m \u001b[0;34m=\u001b[0m \u001b[0mself\u001b[0m\u001b[0;34m.\u001b[0m\u001b[0m_callable_fn\u001b[0m\u001b[0;34m(\u001b[0m\u001b[0;34m*\u001b[0m\u001b[0marray_vals\u001b[0m\u001b[0;34m)\u001b[0m\u001b[0;34m\u001b[0m\u001b[0;34m\u001b[0m\u001b[0m\n\u001b[0m\u001b[1;32m   2938\u001b[0m         \u001b[0;32mreturn\u001b[0m \u001b[0mfetched\u001b[0m\u001b[0;34m[\u001b[0m\u001b[0;34m:\u001b[0m\u001b[0mlen\u001b[0m\u001b[0;34m(\u001b[0m\u001b[0mself\u001b[0m\u001b[0;34m.\u001b[0m\u001b[0moutputs\u001b[0m\u001b[0;34m)\u001b[0m\u001b[0;34m]\u001b[0m\u001b[0;34m\u001b[0m\u001b[0;34m\u001b[0m\u001b[0m\n\u001b[1;32m   2939\u001b[0m \u001b[0;34m\u001b[0m\u001b[0m\n",
            "\u001b[0;32m/usr/local/lib/python3.6/dist-packages/tensorflow_core/python/client/session.py\u001b[0m in \u001b[0;36m__call__\u001b[0;34m(self, *args, **kwargs)\u001b[0m\n\u001b[1;32m   1470\u001b[0m         ret = tf_session.TF_SessionRunCallable(self._session._session,\n\u001b[1;32m   1471\u001b[0m                                                \u001b[0mself\u001b[0m\u001b[0;34m.\u001b[0m\u001b[0m_handle\u001b[0m\u001b[0;34m,\u001b[0m \u001b[0margs\u001b[0m\u001b[0;34m,\u001b[0m\u001b[0;34m\u001b[0m\u001b[0;34m\u001b[0m\u001b[0m\n\u001b[0;32m-> 1472\u001b[0;31m                                                run_metadata_ptr)\n\u001b[0m\u001b[1;32m   1473\u001b[0m         \u001b[0;32mif\u001b[0m \u001b[0mrun_metadata\u001b[0m\u001b[0;34m:\u001b[0m\u001b[0;34m\u001b[0m\u001b[0;34m\u001b[0m\u001b[0m\n\u001b[1;32m   1474\u001b[0m           \u001b[0mproto_data\u001b[0m \u001b[0;34m=\u001b[0m \u001b[0mtf_session\u001b[0m\u001b[0;34m.\u001b[0m\u001b[0mTF_GetBuffer\u001b[0m\u001b[0;34m(\u001b[0m\u001b[0mrun_metadata_ptr\u001b[0m\u001b[0;34m)\u001b[0m\u001b[0;34m\u001b[0m\u001b[0;34m\u001b[0m\u001b[0m\n",
            "\u001b[0;31mKeyboardInterrupt\u001b[0m: "
          ]
        }
      ]
    },
    {
      "cell_type": "code",
      "metadata": {
        "id": "vpI_X8HhyUs6",
        "colab_type": "code",
        "colab": {
          "base_uri": "https://localhost:8080/",
          "height": 298
        },
        "outputId": "6eef8cf4-3aaf-4e43-8f17-1ee962cd1019"
      },
      "source": [
        "import matplotlib.pyplot as plt\n",
        "acc = history1.history['acc']\n",
        "val_acc = history1.history['val_acc']\n",
        "loss = history1.history['loss']\n",
        "val_loss = history1.history['val_loss']\n",
        "\n",
        "epochs = range(len(acc))\n",
        "\n",
        "plt.plot(epochs, acc, 'r', label='Training accuracy')\n",
        "plt.plot(epochs, val_acc, 'b', label='Validation accuracy')\n",
        "plt.title('Training and validation accuracy')\n",
        "plt.legend(loc=0)\n",
        "plt.figure()\n",
        "\n",
        "\n",
        "plt.show()"
      ],
      "execution_count": 37,
      "outputs": [
        {
          "output_type": "display_data",
          "data": {
            "image/png": "[encoded data removed]",
            "text/plain": [
              "<Figure size 432x288 with 1 Axes>"
            ]
          },
          "metadata": {
            "tags": []
          }
        },
        {
          "output_type": "display_data",
          "data": {
            "text/plain": [
              "<Figure size 432x288 with 0 Axes>"
            ]
          },
          "metadata": {
            "tags": []
          }
        }
      ]
    }
  ]
}